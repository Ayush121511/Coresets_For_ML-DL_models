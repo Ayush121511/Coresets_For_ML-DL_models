{
  "cells": [
    {
      "cell_type": "markdown",
      "metadata": {
        "id": "XxjLGXBAorz6"
      },
      "source": [
        "# Coreset for Neural Networks"
      ]
    },
    {
      "cell_type": "code",
      "execution_count": null,
      "metadata": {
        "id": "XsZK7YrCorz8"
      },
      "outputs": [],
      "source": [
        "import numpy as np\n",
        "import pandas as pd\n",
        "import math\n",
        "from sklearn.linear_model import LinearRegression\n",
        "import tensorflow as tf\n",
        "from tensorflow.keras.models import Sequential\n",
        "from tensorflow.keras.layers import Dense\n",
        "from sklearn.model_selection import train_test_split\n",
        "from tensorflow.keras.losses import BinaryCrossentropy"
      ]
    },
    {
      "cell_type": "code",
      "execution_count": null,
      "metadata": {
        "id": "F6NzKsiforz9"
      },
      "outputs": [],
      "source": [
        "with open(\"CNN.txt\", mode=\"r\") as fp:\n",
        "    svmformat_list = fp.read().splitlines()\n",
        "\n",
        "# For each line we save the key:values to a dict\n",
        "pandas_label_list = []\n",
        "pandas_feature_list = []\n",
        "for line in svmformat_list:\n",
        "    feature_dict = {}\n",
        "\n",
        "    items = line.split()\n",
        "    pandas_label_list.append({'label': items[0]})\n",
        "\n",
        "    for pair in items[1:]:\n",
        "        feature_name, count = pair.split(':')\n",
        "        feature_dict[feature_name] = float(count)\n",
        "\n",
        "    pandas_feature_list.append(feature_dict)"
      ]
    },
    {
      "cell_type": "code",
      "execution_count": null,
      "metadata": {
        "id": "ipOyZ6LGorz9"
      },
      "outputs": [],
      "source": [
        "data = pd.DataFrame.from_dict(pandas_feature_list)"
      ]
    },
    {
      "cell_type": "code",
      "execution_count": null,
      "metadata": {
        "colab": {
          "base_uri": "https://localhost:8080/",
          "height": 487
        },
        "id": "vZ7mMKPEorz9",
        "outputId": "736936eb-c4ad-42c6-e27d-67669c6e056b"
      },
      "outputs": [
        {
          "output_type": "execute_result",
          "data": {
            "text/plain": [
              "          1         2         3          4          5         6         7  \\\n",
              "0      29.0  3.821209  1.567568  13.547628   7.242389  0.019883  0.012195   \n",
              "1      25.0  3.052969  1.641484  22.334589  15.734018  0.023027  0.010731   \n",
              "2      82.0  1.601274  1.508805   5.860583   3.301121  0.025948  0.006956   \n",
              "3      25.0  4.819368  2.879584  41.382828  24.448074  0.014387  0.007596   \n",
              "4      29.0  2.768753  1.797319  13.338054   9.980667  0.011506  0.007269   \n",
              "...     ...       ...       ...        ...        ...       ...       ...   \n",
              "22540  30.0  2.808389  1.475269   9.408182   3.851741  0.011282  0.010490   \n",
              "22541  32.0  4.830225  1.974286   7.508844   3.180844  0.015507  0.014104   \n",
              "22542  32.0  5.308545  2.534434  10.520031   4.518093  0.017690  0.013312   \n",
              "22543  42.0  0.426690  0.192054   2.405270   1.100260  0.013657  0.008062   \n",
              "22544  97.0  0.684250  1.433648   4.603334   7.979573  0.012789  0.006696   \n",
              "\n",
              "              8         9           10  ...  128  203  694  779  88  324  689  \\\n",
              "0      0.067241  0.049107  3406.866211  ...  NaN  NaN  NaN  NaN NaN  NaN  NaN   \n",
              "1      0.077000  0.045884  3324.158203  ...  NaN  NaN  NaN  NaN NaN  NaN  NaN   \n",
              "2      0.082317  0.044845  3771.984131  ...  NaN  NaN  NaN  NaN NaN  NaN  NaN   \n",
              "3      0.069875  0.046916  3301.686035  ...  NaN  NaN  NaN  NaN NaN  NaN  NaN   \n",
              "4      0.100647  0.067401  3266.021484  ...  NaN  NaN  NaN  NaN NaN  NaN  NaN   \n",
              "...         ...       ...          ...  ...  ...  ...  ...  ...  ..  ...  ...   \n",
              "22540  0.116250  0.075856  3421.109131  ...  NaN  NaN  NaN  NaN NaN  NaN  NaN   \n",
              "22541  0.127734  0.071251  3479.608887  ...  NaN  NaN  NaN  NaN NaN  NaN  NaN   \n",
              "22542  0.104492  0.063117  3484.652588  ...  NaN  NaN  NaN  NaN NaN  NaN  NaN   \n",
              "22543  0.106696  0.046419  3616.494629  ...  NaN  NaN  NaN  NaN NaN  NaN  NaN   \n",
              "22544  0.111598  0.041409  3824.169434  ...  NaN  NaN  NaN  NaN NaN  NaN  NaN   \n",
              "\n",
              "       886  141  487  \n",
              "0      NaN  NaN  NaN  \n",
              "1      NaN  NaN  NaN  \n",
              "2      NaN  NaN  NaN  \n",
              "3      NaN  NaN  NaN  \n",
              "4      NaN  NaN  NaN  \n",
              "...    ...  ...  ...  \n",
              "22540  NaN  NaN  NaN  \n",
              "22541  NaN  NaN  NaN  \n",
              "22542  NaN  NaN  NaN  \n",
              "22543  NaN  NaN  NaN  \n",
              "22544  NaN  NaN  NaN  \n",
              "\n",
              "[22545 rows x 229 columns]"
            ],
            "text/html": [
              "\n",
              "  <div id=\"df-9c104215-d1d4-4002-8cb2-bffbded87777\">\n",
              "    <div class=\"colab-df-container\">\n",
              "      <div>\n",
              "<style scoped>\n",
              "    .dataframe tbody tr th:only-of-type {\n",
              "        vertical-align: middle;\n",
              "    }\n",
              "\n",
              "    .dataframe tbody tr th {\n",
              "        vertical-align: top;\n",
              "    }\n",
              "\n",
              "    .dataframe thead th {\n",
              "        text-align: right;\n",
              "    }\n",
              "</style>\n",
              "<table border=\"1\" class=\"dataframe\">\n",
              "  <thead>\n",
              "    <tr style=\"text-align: right;\">\n",
              "      <th></th>\n",
              "      <th>1</th>\n",
              "      <th>2</th>\n",
              "      <th>3</th>\n",
              "      <th>4</th>\n",
              "      <th>5</th>\n",
              "      <th>6</th>\n",
              "      <th>7</th>\n",
              "      <th>8</th>\n",
              "      <th>9</th>\n",
              "      <th>10</th>\n",
              "      <th>...</th>\n",
              "      <th>128</th>\n",
              "      <th>203</th>\n",
              "      <th>694</th>\n",
              "      <th>779</th>\n",
              "      <th>88</th>\n",
              "      <th>324</th>\n",
              "      <th>689</th>\n",
              "      <th>886</th>\n",
              "      <th>141</th>\n",
              "      <th>487</th>\n",
              "    </tr>\n",
              "  </thead>\n",
              "  <tbody>\n",
              "    <tr>\n",
              "      <th>0</th>\n",
              "      <td>29.0</td>\n",
              "      <td>3.821209</td>\n",
              "      <td>1.567568</td>\n",
              "      <td>13.547628</td>\n",
              "      <td>7.242389</td>\n",
              "      <td>0.019883</td>\n",
              "      <td>0.012195</td>\n",
              "      <td>0.067241</td>\n",
              "      <td>0.049107</td>\n",
              "      <td>3406.866211</td>\n",
              "      <td>...</td>\n",
              "      <td>NaN</td>\n",
              "      <td>NaN</td>\n",
              "      <td>NaN</td>\n",
              "      <td>NaN</td>\n",
              "      <td>NaN</td>\n",
              "      <td>NaN</td>\n",
              "      <td>NaN</td>\n",
              "      <td>NaN</td>\n",
              "      <td>NaN</td>\n",
              "      <td>NaN</td>\n",
              "    </tr>\n",
              "    <tr>\n",
              "      <th>1</th>\n",
              "      <td>25.0</td>\n",
              "      <td>3.052969</td>\n",
              "      <td>1.641484</td>\n",
              "      <td>22.334589</td>\n",
              "      <td>15.734018</td>\n",
              "      <td>0.023027</td>\n",
              "      <td>0.010731</td>\n",
              "      <td>0.077000</td>\n",
              "      <td>0.045884</td>\n",
              "      <td>3324.158203</td>\n",
              "      <td>...</td>\n",
              "      <td>NaN</td>\n",
              "      <td>NaN</td>\n",
              "      <td>NaN</td>\n",
              "      <td>NaN</td>\n",
              "      <td>NaN</td>\n",
              "      <td>NaN</td>\n",
              "      <td>NaN</td>\n",
              "      <td>NaN</td>\n",
              "      <td>NaN</td>\n",
              "      <td>NaN</td>\n",
              "    </tr>\n",
              "    <tr>\n",
              "      <th>2</th>\n",
              "      <td>82.0</td>\n",
              "      <td>1.601274</td>\n",
              "      <td>1.508805</td>\n",
              "      <td>5.860583</td>\n",
              "      <td>3.301121</td>\n",
              "      <td>0.025948</td>\n",
              "      <td>0.006956</td>\n",
              "      <td>0.082317</td>\n",
              "      <td>0.044845</td>\n",
              "      <td>3771.984131</td>\n",
              "      <td>...</td>\n",
              "      <td>NaN</td>\n",
              "      <td>NaN</td>\n",
              "      <td>NaN</td>\n",
              "      <td>NaN</td>\n",
              "      <td>NaN</td>\n",
              "      <td>NaN</td>\n",
              "      <td>NaN</td>\n",
              "      <td>NaN</td>\n",
              "      <td>NaN</td>\n",
              "      <td>NaN</td>\n",
              "    </tr>\n",
              "    <tr>\n",
              "      <th>3</th>\n",
              "      <td>25.0</td>\n",
              "      <td>4.819368</td>\n",
              "      <td>2.879584</td>\n",
              "      <td>41.382828</td>\n",
              "      <td>24.448074</td>\n",
              "      <td>0.014387</td>\n",
              "      <td>0.007596</td>\n",
              "      <td>0.069875</td>\n",
              "      <td>0.046916</td>\n",
              "      <td>3301.686035</td>\n",
              "      <td>...</td>\n",
              "      <td>NaN</td>\n",
              "      <td>NaN</td>\n",
              "      <td>NaN</td>\n",
              "      <td>NaN</td>\n",
              "      <td>NaN</td>\n",
              "      <td>NaN</td>\n",
              "      <td>NaN</td>\n",
              "      <td>NaN</td>\n",
              "      <td>NaN</td>\n",
              "      <td>NaN</td>\n",
              "    </tr>\n",
              "    <tr>\n",
              "      <th>4</th>\n",
              "      <td>29.0</td>\n",
              "      <td>2.768753</td>\n",
              "      <td>1.797319</td>\n",
              "      <td>13.338054</td>\n",
              "      <td>9.980667</td>\n",
              "      <td>0.011506</td>\n",
              "      <td>0.007269</td>\n",
              "      <td>0.100647</td>\n",
              "      <td>0.067401</td>\n",
              "      <td>3266.021484</td>\n",
              "      <td>...</td>\n",
              "      <td>NaN</td>\n",
              "      <td>NaN</td>\n",
              "      <td>NaN</td>\n",
              "      <td>NaN</td>\n",
              "      <td>NaN</td>\n",
              "      <td>NaN</td>\n",
              "      <td>NaN</td>\n",
              "      <td>NaN</td>\n",
              "      <td>NaN</td>\n",
              "      <td>NaN</td>\n",
              "    </tr>\n",
              "    <tr>\n",
              "      <th>...</th>\n",
              "      <td>...</td>\n",
              "      <td>...</td>\n",
              "      <td>...</td>\n",
              "      <td>...</td>\n",
              "      <td>...</td>\n",
              "      <td>...</td>\n",
              "      <td>...</td>\n",
              "      <td>...</td>\n",
              "      <td>...</td>\n",
              "      <td>...</td>\n",
              "      <td>...</td>\n",
              "      <td>...</td>\n",
              "      <td>...</td>\n",
              "      <td>...</td>\n",
              "      <td>...</td>\n",
              "      <td>...</td>\n",
              "      <td>...</td>\n",
              "      <td>...</td>\n",
              "      <td>...</td>\n",
              "      <td>...</td>\n",
              "      <td>...</td>\n",
              "    </tr>\n",
              "    <tr>\n",
              "      <th>22540</th>\n",
              "      <td>30.0</td>\n",
              "      <td>2.808389</td>\n",
              "      <td>1.475269</td>\n",
              "      <td>9.408182</td>\n",
              "      <td>3.851741</td>\n",
              "      <td>0.011282</td>\n",
              "      <td>0.010490</td>\n",
              "      <td>0.116250</td>\n",
              "      <td>0.075856</td>\n",
              "      <td>3421.109131</td>\n",
              "      <td>...</td>\n",
              "      <td>NaN</td>\n",
              "      <td>NaN</td>\n",
              "      <td>NaN</td>\n",
              "      <td>NaN</td>\n",
              "      <td>NaN</td>\n",
              "      <td>NaN</td>\n",
              "      <td>NaN</td>\n",
              "      <td>NaN</td>\n",
              "      <td>NaN</td>\n",
              "      <td>NaN</td>\n",
              "    </tr>\n",
              "    <tr>\n",
              "      <th>22541</th>\n",
              "      <td>32.0</td>\n",
              "      <td>4.830225</td>\n",
              "      <td>1.974286</td>\n",
              "      <td>7.508844</td>\n",
              "      <td>3.180844</td>\n",
              "      <td>0.015507</td>\n",
              "      <td>0.014104</td>\n",
              "      <td>0.127734</td>\n",
              "      <td>0.071251</td>\n",
              "      <td>3479.608887</td>\n",
              "      <td>...</td>\n",
              "      <td>NaN</td>\n",
              "      <td>NaN</td>\n",
              "      <td>NaN</td>\n",
              "      <td>NaN</td>\n",
              "      <td>NaN</td>\n",
              "      <td>NaN</td>\n",
              "      <td>NaN</td>\n",
              "      <td>NaN</td>\n",
              "      <td>NaN</td>\n",
              "      <td>NaN</td>\n",
              "    </tr>\n",
              "    <tr>\n",
              "      <th>22542</th>\n",
              "      <td>32.0</td>\n",
              "      <td>5.308545</td>\n",
              "      <td>2.534434</td>\n",
              "      <td>10.520031</td>\n",
              "      <td>4.518093</td>\n",
              "      <td>0.017690</td>\n",
              "      <td>0.013312</td>\n",
              "      <td>0.104492</td>\n",
              "      <td>0.063117</td>\n",
              "      <td>3484.652588</td>\n",
              "      <td>...</td>\n",
              "      <td>NaN</td>\n",
              "      <td>NaN</td>\n",
              "      <td>NaN</td>\n",
              "      <td>NaN</td>\n",
              "      <td>NaN</td>\n",
              "      <td>NaN</td>\n",
              "      <td>NaN</td>\n",
              "      <td>NaN</td>\n",
              "      <td>NaN</td>\n",
              "      <td>NaN</td>\n",
              "    </tr>\n",
              "    <tr>\n",
              "      <th>22543</th>\n",
              "      <td>42.0</td>\n",
              "      <td>0.426690</td>\n",
              "      <td>0.192054</td>\n",
              "      <td>2.405270</td>\n",
              "      <td>1.100260</td>\n",
              "      <td>0.013657</td>\n",
              "      <td>0.008062</td>\n",
              "      <td>0.106696</td>\n",
              "      <td>0.046419</td>\n",
              "      <td>3616.494629</td>\n",
              "      <td>...</td>\n",
              "      <td>NaN</td>\n",
              "      <td>NaN</td>\n",
              "      <td>NaN</td>\n",
              "      <td>NaN</td>\n",
              "      <td>NaN</td>\n",
              "      <td>NaN</td>\n",
              "      <td>NaN</td>\n",
              "      <td>NaN</td>\n",
              "      <td>NaN</td>\n",
              "      <td>NaN</td>\n",
              "    </tr>\n",
              "    <tr>\n",
              "      <th>22544</th>\n",
              "      <td>97.0</td>\n",
              "      <td>0.684250</td>\n",
              "      <td>1.433648</td>\n",
              "      <td>4.603334</td>\n",
              "      <td>7.979573</td>\n",
              "      <td>0.012789</td>\n",
              "      <td>0.006696</td>\n",
              "      <td>0.111598</td>\n",
              "      <td>0.041409</td>\n",
              "      <td>3824.169434</td>\n",
              "      <td>...</td>\n",
              "      <td>NaN</td>\n",
              "      <td>NaN</td>\n",
              "      <td>NaN</td>\n",
              "      <td>NaN</td>\n",
              "      <td>NaN</td>\n",
              "      <td>NaN</td>\n",
              "      <td>NaN</td>\n",
              "      <td>NaN</td>\n",
              "      <td>NaN</td>\n",
              "      <td>NaN</td>\n",
              "    </tr>\n",
              "  </tbody>\n",
              "</table>\n",
              "<p>22545 rows × 229 columns</p>\n",
              "</div>\n",
              "      <button class=\"colab-df-convert\" onclick=\"convertToInteractive('df-9c104215-d1d4-4002-8cb2-bffbded87777')\"\n",
              "              title=\"Convert this dataframe to an interactive table.\"\n",
              "              style=\"display:none;\">\n",
              "        \n",
              "  <svg xmlns=\"http://www.w3.org/2000/svg\" height=\"24px\"viewBox=\"0 0 24 24\"\n",
              "       width=\"24px\">\n",
              "    <path d=\"M0 0h24v24H0V0z\" fill=\"none\"/>\n",
              "    <path d=\"M18.56 5.44l.94 2.06.94-2.06 2.06-.94-2.06-.94-.94-2.06-.94 2.06-2.06.94zm-11 1L8.5 8.5l.94-2.06 2.06-.94-2.06-.94L8.5 2.5l-.94 2.06-2.06.94zm10 10l.94 2.06.94-2.06 2.06-.94-2.06-.94-.94-2.06-.94 2.06-2.06.94z\"/><path d=\"M17.41 7.96l-1.37-1.37c-.4-.4-.92-.59-1.43-.59-.52 0-1.04.2-1.43.59L10.3 9.45l-7.72 7.72c-.78.78-.78 2.05 0 2.83L4 21.41c.39.39.9.59 1.41.59.51 0 1.02-.2 1.41-.59l7.78-7.78 2.81-2.81c.8-.78.8-2.07 0-2.86zM5.41 20L4 18.59l7.72-7.72 1.47 1.35L5.41 20z\"/>\n",
              "  </svg>\n",
              "      </button>\n",
              "      \n",
              "  <style>\n",
              "    .colab-df-container {\n",
              "      display:flex;\n",
              "      flex-wrap:wrap;\n",
              "      gap: 12px;\n",
              "    }\n",
              "\n",
              "    .colab-df-convert {\n",
              "      background-color: #E8F0FE;\n",
              "      border: none;\n",
              "      border-radius: 50%;\n",
              "      cursor: pointer;\n",
              "      display: none;\n",
              "      fill: #1967D2;\n",
              "      height: 32px;\n",
              "      padding: 0 0 0 0;\n",
              "      width: 32px;\n",
              "    }\n",
              "\n",
              "    .colab-df-convert:hover {\n",
              "      background-color: #E2EBFA;\n",
              "      box-shadow: 0px 1px 2px rgba(60, 64, 67, 0.3), 0px 1px 3px 1px rgba(60, 64, 67, 0.15);\n",
              "      fill: #174EA6;\n",
              "    }\n",
              "\n",
              "    [theme=dark] .colab-df-convert {\n",
              "      background-color: #3B4455;\n",
              "      fill: #D2E3FC;\n",
              "    }\n",
              "\n",
              "    [theme=dark] .colab-df-convert:hover {\n",
              "      background-color: #434B5C;\n",
              "      box-shadow: 0px 1px 3px 1px rgba(0, 0, 0, 0.15);\n",
              "      filter: drop-shadow(0px 1px 2px rgba(0, 0, 0, 0.3));\n",
              "      fill: #FFFFFF;\n",
              "    }\n",
              "  </style>\n",
              "\n",
              "      <script>\n",
              "        const buttonEl =\n",
              "          document.querySelector('#df-9c104215-d1d4-4002-8cb2-bffbded87777 button.colab-df-convert');\n",
              "        buttonEl.style.display =\n",
              "          google.colab.kernel.accessAllowed ? 'block' : 'none';\n",
              "\n",
              "        async function convertToInteractive(key) {\n",
              "          const element = document.querySelector('#df-9c104215-d1d4-4002-8cb2-bffbded87777');\n",
              "          const dataTable =\n",
              "            await google.colab.kernel.invokeFunction('convertToInteractive',\n",
              "                                                     [key], {});\n",
              "          if (!dataTable) return;\n",
              "\n",
              "          const docLinkHtml = 'Like what you see? Visit the ' +\n",
              "            '<a target=\"_blank\" href=https://colab.research.google.com/notebooks/data_table.ipynb>data table notebook</a>'\n",
              "            + ' to learn more about interactive tables.';\n",
              "          element.innerHTML = '';\n",
              "          dataTable['output_type'] = 'display_data';\n",
              "          await google.colab.output.renderOutput(dataTable, element);\n",
              "          const docLink = document.createElement('div');\n",
              "          docLink.innerHTML = docLinkHtml;\n",
              "          element.appendChild(docLink);\n",
              "        }\n",
              "      </script>\n",
              "    </div>\n",
              "  </div>\n",
              "  "
            ]
          },
          "metadata": {},
          "execution_count": 4
        }
      ],
      "source": [
        "data"
      ]
    },
    {
      "cell_type": "code",
      "execution_count": null,
      "metadata": {
        "id": "W_Xq2wpmorz-"
      },
      "outputs": [],
      "source": [
        "arr = data.to_numpy()\n",
        "X=arr\n",
        "X_complete = []\n",
        "col_not_comp = []\n",
        "# arr[0,128]!=arr[0,128]\n",
        "for j in range(X.shape[1]):\n",
        "    # for i in range(arr.shape[0]):\n",
        "    #     if(arr[i,j]!=arr[i,j]):\n",
        "    #         sum[j]+=1\n",
        "    if(np.all(X[:,j]==X[:,j])):\n",
        "        X_complete.append(arr[:,j])\n",
        "    else:\n",
        "        col_not_comp.append(j)\n",
        "X_complete = np.array(X_complete).T"
      ]
    },
    {
      "cell_type": "code",
      "execution_count": null,
      "metadata": {
        "id": "1RY3g2t5orz-"
      },
      "outputs": [],
      "source": [
        "for j in col_not_comp:\n",
        "    a = np.nanmean(X[:,j])\n",
        "    for i in range(X.shape[0]):\n",
        "      if(X[i,j]!=X[i,j]):\n",
        "        X[i,j] = a"
      ]
    },
    {
      "cell_type": "code",
      "execution_count": null,
      "metadata": {
        "id": "EFlgPqIKorz-"
      },
      "outputs": [],
      "source": [
        "Y = np.zeros((len(pandas_label_list),1))\n",
        "for i in range(len(pandas_label_list)):\n",
        "    Y[i,0] = pandas_label_list[i]['label']"
      ]
    },
    {
      "cell_type": "code",
      "execution_count": null,
      "metadata": {
        "id": "00HZxj3horz_",
        "outputId": "aed4e904-d461-49f8-8730-1b5e14d1acf4",
        "colab": {
          "base_uri": "https://localhost:8080/"
        }
      },
      "outputs": [
        {
          "output_type": "execute_result",
          "data": {
            "text/plain": [
              "(22545, 1)"
            ]
          },
          "metadata": {},
          "execution_count": 8
        }
      ],
      "source": [
        "Y.shape"
      ]
    },
    {
      "cell_type": "code",
      "execution_count": null,
      "metadata": {
        "id": "LpKA1_uDor0A"
      },
      "outputs": [],
      "source": [
        "def sigmoid(z):\n",
        "    z = z[0]\n",
        "    a =   np.exp(z)/(1+np.exp(z)) if z<0 else (1/(1+np.exp(-z)))\n",
        "    return a\n",
        "def sigmoid_der(z):\n",
        "    return sigmoid(z)*(1-sigmoid(z))"
      ]
    },
    {
      "cell_type": "code",
      "execution_count": null,
      "metadata": {
        "id": "PV8EgU78or0A"
      },
      "outputs": [],
      "source": [
        "def linear(z):\n",
        "    return z\n",
        "def linear_der(z):\n",
        "    return 1"
      ]
    },
    {
      "cell_type": "code",
      "execution_count": null,
      "metadata": {
        "id": "TuRuymv3or0A"
      },
      "outputs": [],
      "source": [
        "def tanh(z):\n",
        "    return np.where( z<0, (np.exp(z) - 1/np.exp(z) ) / (np.exp(z) + 1/np.exp(z)) , ( 1/np.exp(-z) - np.exp(-z) ) / (np.exp(-z) + 1/np.exp(-z)) )\n",
        "def tanh_der(z):\n",
        "    return 1- tanh(z)**2"
      ]
    },
    {
      "cell_type": "code",
      "execution_count": null,
      "metadata": {
        "id": "UdVkVl23or0A"
      },
      "outputs": [],
      "source": [
        "def relu(z):\n",
        "    # print(z)\n",
        "    return z if z>0 else 0.1*z\n",
        "def relu_der(z):\n",
        "    z = z[0]\n",
        "    if(z==0):\n",
        "        z = z + 1e-10\n",
        "    return 1 if z>0 else 0.1"
      ]
    },
    {
      "cell_type": "code",
      "execution_count": null,
      "metadata": {
        "id": "GLv1R-QBor0A"
      },
      "outputs": [],
      "source": [
        "def a(W,b,g,a_l_1):\n",
        "    z_l = np.matmul(W,a_l_1) + b\n",
        "    a_l=np.ones((z_l.shape[0],z_l.shape[1]))\n",
        "    for i in range(z_l.shape[0]):\n",
        "        a_l[i] = g(z_l[i])\n",
        "    return a_l,z_l"
      ]
    },
    {
      "cell_type": "code",
      "execution_count": null,
      "metadata": {
        "id": "Qpd0H92Kor0B"
      },
      "outputs": [],
      "source": [
        "def compute(X,W,B,G,N):\n",
        "    A=[]\n",
        "    Z=[]\n",
        "    a_l = z_l = X.T\n",
        "    A.append(a_l)\n",
        "    Z.append(z_l)\n",
        "    for l in range(1,len(N)):\n",
        "        a_l,z_l = a(W[l-1],B[l-1],G[l-1],a_l)\n",
        "        # print(a_l)\n",
        "        A.append(np.array(a_l))\n",
        "        Z.append(np.array(z_l))\n",
        "    return A,Z"
      ]
    },
    {
      "cell_type": "code",
      "execution_count": null,
      "metadata": {
        "id": "vLgiU-Saor0B"
      },
      "outputs": [],
      "source": [
        "def binary_entropy_loss(truth_labels, predicted_labels):\n",
        "    epsilon = 1e-15\n",
        "    predicted_labels = np.clip(predicted_labels, epsilon, 1 - epsilon)\n",
        "    N = predicted_labels.shape[0]\n",
        "    truth_labels = np.reshape(truth_labels,(-1,1))\n",
        "    # print(truth_labels.shape,predicted_labels.shape)\n",
        "    loss = -np.sum(truth_labels * np.log(predicted_labels +1e-15) + (1 - truth_labels) * np.log(1 - predicted_labels+1e-15)) / N\n",
        "    return loss"
      ]
    },
    {
      "cell_type": "code",
      "execution_count": null,
      "metadata": {
        "id": "kXc0O2Pbor0B"
      },
      "outputs": [],
      "source": [
        "def partial_derivative_binary_entropy_loss(truth_labels, predicted_labels):\n",
        "    N = predicted_labels.shape[0]\n",
        "    return (predicted_labels - 2*predicted_labels*truth_labels + truth_labels) / (predicted_labels * (1 - predicted_labels) * N +1e-10)"
      ]
    },
    {
      "cell_type": "markdown",
      "metadata": {
        "id": "w0jbs2sQor0B"
      },
      "source": [
        "## Coreset Construction\n"
      ]
    },
    {
      "cell_type": "code",
      "execution_count": null,
      "metadata": {
        "id": "bD9Baux8or0B"
      },
      "outputs": [],
      "source": [
        "def coresetConstr(X,Y,W_anc,B_anc,R,n,eps,delta,l,L):\n",
        "    G = [relu,relu,sigmoid]\n",
        "    G_der = [ relu_der,relu_der,sigmoid_der ]\n",
        "    Y_predicted=[]\n",
        "    M = - 1e+8\n",
        "    for i in range(0,X.shape[0]):\n",
        "        Der = 0\n",
        "        # forward propogation\n",
        "        A,Z = compute(np.array([X[i]]),W_anc,B_anc,G,n)\n",
        "        Y_predicted.append(A[3][0][0])\n",
        "        #backward propogation\n",
        "        dc_dz_last = np.multiply(partial_derivative_binary_entropy_loss(Y[i],A[3]) ,G_der[2](Z[3]))\n",
        "        der_3 = np.matmul(dc_dz_last,A[2].T)\n",
        "        Der += np.sum(der_3**2)\n",
        "        dc_dz_second= np.multiply(np.matmul(W_anc[2].T,dc_dz_last) , G_der[1](Z[2]))\n",
        "        der_2 = np.matmul(dc_dz_second,A[1].T)\n",
        "        Der+= np.sum(der_2**2)\n",
        "        dc_dz_first = np.multiply(np.matmul(W_anc[1].T,dc_dz_second) , G_der[0](Z[1]))\n",
        "        der_1 = np.matmul(dc_dz_first,A[0].T)\n",
        "        Der+= np.sum(der_1**2)\n",
        "        if(Der>M):\n",
        "            M=Der\n",
        "    # print(Y)\n",
        "    # print(Y_predicted)\n",
        "    H = binary_entropy_loss(np.array(Y_predicted,dtype='float'),np.array(Y,dtype=\n",
        "    'float'))\n",
        "    # print(H,M)\n",
        "    N = int(np.log(X.shape[0]))\n",
        "    W = np.zeros((X.shape[0]))\n",
        "    print(M)\n",
        "    P = []\n",
        "    for i in range(N-1):\n",
        "        P.append([])\n",
        "    for i in range(X.shape[0]):\n",
        "        P[int(math.log(partial_derivative_binary_entropy_loss(Y[i],np.array([[Y_predicted[3]]])),2))].append(i)\n",
        "\n",
        "    for i in range(len(P)):\n",
        "        Q_i_s = (H * 2**(i-1) + M*R +L*R**2)**2*delta**(-2) * np.log(1/l)\n",
        "        if(Q_i_s<len(P[i])):\n",
        "            Q_i = np.random.choice(P[i],int(Q_i_s))\n",
        "        else:\n",
        "            Q_i = P[i]\n",
        "\n",
        "        for i in Q_i:\n",
        "            W[i] = int(Q_i_s)/len(P)\n",
        "    return W\n"
      ]
    },
    {
      "cell_type": "code",
      "source": [
        "for i in range(Y.shape[0]):\n",
        "  if(Y[i,0]==-1):\n",
        "    Y[i,0]=0"
      ],
      "metadata": {
        "id": "TlX8oL3aNif_"
      },
      "execution_count": null,
      "outputs": []
    },
    {
      "cell_type": "code",
      "execution_count": null,
      "metadata": {
        "id": "hPqrpfu6or0B"
      },
      "outputs": [],
      "source": [
        "N = [X.shape[1],5,5,1]\n",
        "G = [relu,relu,sigmoid]\n",
        "W = []\n",
        "B = []\n",
        "X_train,X_test,Y_train,Y_test = train_test_split(X,Y,test_size=0.2)\n",
        "for l in range(1,len(N)):\n",
        "    W_l = np.random.rand(N[l],N[l-1])/100\n",
        "    B_l = np.zeros((N[l],1))\n",
        "    # print(W_l.shape,B_l.shape)\n",
        "    W.append(W_l)\n",
        "    B.append(B_l)\n",
        "Weights = coresetConstr(X_train,Y_train,W,B,1,N,0.5,1,0.8,100)"
      ]
    },
    {
      "cell_type": "code",
      "execution_count": null,
      "metadata": {
        "id": "ATcyH7tKor0B"
      },
      "outputs": [],
      "source": [
        "size = 0\n",
        "for i in range(X_train.shape[0]):\n",
        "    if(Weights[i]!=0):\n",
        "        size+=1"
      ]
    },
    {
      "cell_type": "code",
      "execution_count": null,
      "metadata": {
        "id": "vheI91Ulor0B",
        "outputId": "ea33d158-1700-40e0-bb91-76005b08f2f1",
        "colab": {
          "base_uri": "https://localhost:8080/"
        }
      },
      "outputs": [
        {
          "output_type": "execute_result",
          "data": {
            "text/plain": [
              "7138"
            ]
          },
          "metadata": {},
          "execution_count": 21
        }
      ],
      "source": [
        "size"
      ]
    },
    {
      "cell_type": "code",
      "source": [
        "X_train = np.asarray(X_train).astype('float32')\n",
        "Y_train = np.asarray(Y_train).astype('float32')\n",
        "Weights = np.asarray(Weights).astype('float32')\n",
        "train_dataset = tf.data.Dataset.from_tensor_slices((X_train, Y_train,Weights))\n",
        "train_dataset = train_dataset.shuffle(buffer_size=1024).batch(64)"
      ],
      "metadata": {
        "id": "DvSrQGTuJsEu"
      },
      "execution_count": null,
      "outputs": []
    },
    {
      "cell_type": "code",
      "source": [
        "train_dataset"
      ],
      "metadata": {
        "colab": {
          "base_uri": "https://localhost:8080/"
        },
        "id": "kTaXXtUXOsiZ",
        "outputId": "767fc3c1-7eff-4948-9f54-132c3db04145"
      },
      "execution_count": null,
      "outputs": [
        {
          "output_type": "execute_result",
          "data": {
            "text/plain": [
              "<_BatchDataset element_spec=(TensorSpec(shape=(None, 229), dtype=tf.float32, name=None), TensorSpec(shape=(None, 1), dtype=tf.float32, name=None), TensorSpec(shape=(None,), dtype=tf.float32, name=None))>"
            ]
          },
          "metadata": {},
          "execution_count": 23
        }
      ]
    },
    {
      "cell_type": "code",
      "source": [
        "tf.random.set_seed(1234)  # applied to achieve consistent results\n",
        "model = Sequential(\n",
        "    [\n",
        "        Dense(10, activation = 'relu',   name = \"L1\"),\n",
        "        Dense(5, activation = 'relu', name = \"L2\"),\n",
        "        Dense(1,activation = 'sigmoid', name='L3')\n",
        "    ]\n",
        ")\n",
        "model.compile(\n",
        "    loss=tf.keras.losses.BinaryCrossentropy(),\n",
        "    optimizer=tf.keras.optimizers.Adam(0.001),\n",
        ")"
      ],
      "metadata": {
        "id": "_iOonIG8LR8Z"
      },
      "execution_count": null,
      "outputs": []
    },
    {
      "cell_type": "code",
      "source": [
        "model.fit(X_train,Y_train, epochs=50)"
      ],
      "metadata": {
        "colab": {
          "base_uri": "https://localhost:8080/"
        },
        "id": "_tQKtbR8Oblc",
        "outputId": "5a08dea2-96ae-4388-8f8b-745f90d43ef1"
      },
      "execution_count": null,
      "outputs": [
        {
          "output_type": "stream",
          "name": "stdout",
          "text": [
            "Epoch 1/50\n",
            "564/564 [==============================] - 1s 1ms/step - loss: 8.1087\n",
            "Epoch 2/50\n",
            "564/564 [==============================] - 1s 1ms/step - loss: 0.7654\n",
            "Epoch 3/50\n",
            "564/564 [==============================] - 1s 1ms/step - loss: 0.6870\n",
            "Epoch 4/50\n",
            "564/564 [==============================] - 1s 1ms/step - loss: 0.6348\n",
            "Epoch 5/50\n",
            "564/564 [==============================] - 1s 1ms/step - loss: 0.6089\n",
            "Epoch 6/50\n",
            "564/564 [==============================] - 1s 1ms/step - loss: 0.5778\n",
            "Epoch 7/50\n",
            "564/564 [==============================] - 1s 1ms/step - loss: 0.5726\n",
            "Epoch 8/50\n",
            "564/564 [==============================] - 1s 1ms/step - loss: 0.5626\n",
            "Epoch 9/50\n",
            "564/564 [==============================] - 1s 1ms/step - loss: 0.5121\n",
            "Epoch 10/50\n",
            "564/564 [==============================] - 1s 1ms/step - loss: 0.5111\n",
            "Epoch 11/50\n",
            "564/564 [==============================] - 1s 1ms/step - loss: 0.5133\n",
            "Epoch 12/50\n",
            "564/564 [==============================] - 1s 1ms/step - loss: 0.4611\n",
            "Epoch 13/50\n",
            "564/564 [==============================] - 1s 1ms/step - loss: 0.4540\n",
            "Epoch 14/50\n",
            "564/564 [==============================] - 1s 1ms/step - loss: 0.4725\n",
            "Epoch 15/50\n",
            "564/564 [==============================] - 1s 1ms/step - loss: 0.4383\n",
            "Epoch 16/50\n",
            "564/564 [==============================] - 1s 1ms/step - loss: 0.4642\n",
            "Epoch 17/50\n",
            "564/564 [==============================] - 1s 1ms/step - loss: 0.4566\n",
            "Epoch 18/50\n",
            "564/564 [==============================] - 1s 1ms/step - loss: 0.4201\n",
            "Epoch 19/50\n",
            "564/564 [==============================] - 1s 1ms/step - loss: 0.4558\n",
            "Epoch 20/50\n",
            "564/564 [==============================] - 1s 1ms/step - loss: 0.4504\n",
            "Epoch 21/50\n",
            "564/564 [==============================] - 1s 2ms/step - loss: 0.4349\n",
            "Epoch 22/50\n",
            "564/564 [==============================] - 1s 1ms/step - loss: 0.4108\n",
            "Epoch 23/50\n",
            "564/564 [==============================] - 1s 1ms/step - loss: 0.4262\n",
            "Epoch 24/50\n",
            "564/564 [==============================] - 1s 1ms/step - loss: 0.4332\n",
            "Epoch 25/50\n",
            "564/564 [==============================] - 1s 1ms/step - loss: 0.4181\n",
            "Epoch 26/50\n",
            "564/564 [==============================] - 1s 1ms/step - loss: 0.4138\n",
            "Epoch 27/50\n",
            "564/564 [==============================] - 1s 1ms/step - loss: 0.4492\n",
            "Epoch 28/50\n",
            "564/564 [==============================] - 1s 2ms/step - loss: 0.3984\n",
            "Epoch 29/50\n",
            "564/564 [==============================] - 1s 1ms/step - loss: 0.4027\n",
            "Epoch 30/50\n",
            "564/564 [==============================] - 1s 1ms/step - loss: 0.4099\n",
            "Epoch 31/50\n",
            "564/564 [==============================] - 1s 1ms/step - loss: 0.3970\n",
            "Epoch 32/50\n",
            "564/564 [==============================] - 1s 1ms/step - loss: 0.3903\n",
            "Epoch 33/50\n",
            "564/564 [==============================] - 1s 1ms/step - loss: 0.4048\n",
            "Epoch 34/50\n",
            "564/564 [==============================] - 1s 1ms/step - loss: 0.3960\n",
            "Epoch 35/50\n",
            "564/564 [==============================] - 1s 1ms/step - loss: 0.4078\n",
            "Epoch 36/50\n",
            "564/564 [==============================] - 1s 1ms/step - loss: 0.3733\n",
            "Epoch 37/50\n",
            "564/564 [==============================] - 1s 1ms/step - loss: 0.3945\n",
            "Epoch 38/50\n",
            "564/564 [==============================] - 1s 1ms/step - loss: 0.3939\n",
            "Epoch 39/50\n",
            "564/564 [==============================] - 1s 1ms/step - loss: 0.3813\n",
            "Epoch 40/50\n",
            "564/564 [==============================] - 1s 1ms/step - loss: 0.3749\n",
            "Epoch 41/50\n",
            "564/564 [==============================] - 1s 1ms/step - loss: 0.3771\n",
            "Epoch 42/50\n",
            "564/564 [==============================] - 1s 1ms/step - loss: 0.3818\n",
            "Epoch 43/50\n",
            "564/564 [==============================] - 1s 1ms/step - loss: 0.3843\n",
            "Epoch 44/50\n",
            "564/564 [==============================] - 1s 1ms/step - loss: 0.3802\n",
            "Epoch 45/50\n",
            "564/564 [==============================] - 1s 1ms/step - loss: 0.3840\n",
            "Epoch 46/50\n",
            "564/564 [==============================] - 1s 1ms/step - loss: 0.3845\n",
            "Epoch 47/50\n",
            "564/564 [==============================] - 1s 1ms/step - loss: 0.3687\n",
            "Epoch 48/50\n",
            "564/564 [==============================] - 1s 1ms/step - loss: 0.3648\n",
            "Epoch 49/50\n",
            "564/564 [==============================] - 1s 1ms/step - loss: 0.3626\n",
            "Epoch 50/50\n",
            "564/564 [==============================] - 1s 1ms/step - loss: 0.3728\n"
          ]
        },
        {
          "output_type": "execute_result",
          "data": {
            "text/plain": [
              "<keras.callbacks.History at 0x7fadbba335b0>"
            ]
          },
          "metadata": {},
          "execution_count": 25
        }
      ]
    },
    {
      "cell_type": "code",
      "source": [
        "model.get_weights()[1].shape"
      ],
      "metadata": {
        "colab": {
          "base_uri": "https://localhost:8080/"
        },
        "id": "KnBvEUQN1BAu",
        "outputId": "9bf9ee62-2ef8-4cc7-c5d8-d367499d2c14"
      },
      "execution_count": null,
      "outputs": [
        {
          "output_type": "execute_result",
          "data": {
            "text/plain": [
              "(10,)"
            ]
          },
          "metadata": {},
          "execution_count": 26
        }
      ]
    },
    {
      "cell_type": "code",
      "source": [
        "X_test = np.asarray(X_test).astype('float32')\n",
        "Y_test = np.asarray(Y_test).astype('float32')\n",
        "Y_predicted = model.predict(X_test)"
      ],
      "metadata": {
        "colab": {
          "base_uri": "https://localhost:8080/"
        },
        "id": "8dE7uNQsOl1x",
        "outputId": "aee1d606-f94c-4448-dfba-c85a12d0bb58"
      },
      "execution_count": null,
      "outputs": [
        {
          "output_type": "stream",
          "name": "stdout",
          "text": [
            "141/141 [==============================] - 0s 698us/step\n"
          ]
        }
      ]
    },
    {
      "cell_type": "code",
      "source": [
        "Y_predicted"
      ],
      "metadata": {
        "id": "EPV9xWVchGlz",
        "colab": {
          "base_uri": "https://localhost:8080/"
        },
        "outputId": "f44f43bb-d80e-452f-9819-520667fc2720"
      },
      "execution_count": null,
      "outputs": [
        {
          "output_type": "execute_result",
          "data": {
            "text/plain": [
              "array([[0.60977596],\n",
              "       [0.84141755],\n",
              "       [0.538474  ],\n",
              "       ...,\n",
              "       [0.9365319 ],\n",
              "       [0.38304555],\n",
              "       [0.82219046]], dtype=float32)"
            ]
          },
          "metadata": {},
          "execution_count": 28
        }
      ]
    },
    {
      "cell_type": "code",
      "source": [
        "Y_test = Y_test.reshape(-1,1)"
      ],
      "metadata": {
        "id": "uRew-THgRxii"
      },
      "execution_count": null,
      "outputs": []
    },
    {
      "cell_type": "code",
      "source": [
        "for i in range(Y_predicted.shape[0]):\n",
        "  if(Y_predicted[i,0]>=0.5):\n",
        "    Y_predicted[i,0]=1\n",
        "  else:\n",
        "    Y_predicted[i,0]=0"
      ],
      "metadata": {
        "id": "PMGYlFjKO5s2"
      },
      "execution_count": null,
      "outputs": []
    },
    {
      "cell_type": "code",
      "source": [
        "np.sum(np.where((Y_test[:,0] == Y_predicted[:,0]),1,0))/Y_test.shape[0]"
      ],
      "metadata": {
        "colab": {
          "base_uri": "https://localhost:8080/"
        },
        "id": "rgU65a-9SQUv",
        "outputId": "e165bf6c-e251-4719-95c5-b670fed43a29"
      },
      "execution_count": null,
      "outputs": [
        {
          "output_type": "execute_result",
          "data": {
            "text/plain": [
              "0.8460856065646485"
            ]
          },
          "metadata": {},
          "execution_count": 31
        }
      ]
    },
    {
      "cell_type": "markdown",
      "source": [
        "## Sequential Coresets"
      ],
      "metadata": {
        "id": "rYgMgYvBRYi3"
      }
    },
    {
      "cell_type": "code",
      "source": [
        "def difference(W,B,Weights):\n",
        "  diff =0\n",
        "  n = 0\n",
        "  for i in range(len(W)):\n",
        "    diff+= np.sum((W[i].T - Weights[2*i])**2)\n",
        "    diff+= np.sum((np.reshape(B[i],(-1,)) - Weights[2*i+1])**2)\n",
        "    n+= W[i].shape[0]*W[i].shape[1] + B[i].shape[0]\n",
        "  return diff**(1/2)\n"
      ],
      "metadata": {
        "id": "MiksFanBCMlm"
      },
      "execution_count": null,
      "outputs": []
    },
    {
      "cell_type": "code",
      "source": [
        "def seqCoreSets(X,Y,R,eps,delta,l,L):\n",
        "  N = [X.shape[1],5,5,1]\n",
        "  G = [relu,relu,sigmoid]\n",
        "  W = []\n",
        "  B = []\n",
        "  Weight_layers = []\n",
        "  for l in range(1,len(N)):\n",
        "    W_l = np.random.rand(N[l],N[l-1])/100\n",
        "    B_l = np.zeros((N[l],1))\n",
        "    W_l_i = [W_l.T,B_l[:,0]]\n",
        "    # print(W_l.shape,B_l.shape)\n",
        "    W.append(W_l)\n",
        "    B.append(B_l)\n",
        "    Weight_layers.append(W_l_i)\n",
        "  W_cur = W\n",
        "  B_cur = B\n",
        "  X = np.asarray(X_train).astype('float32')\n",
        "  Y = np.asarray(Y_train).astype('float32')\n",
        "  tf.random.set_seed(1234)  # applied to achieve consistent results\n",
        "  model = Sequential(\n",
        "      [\n",
        "          Dense(5, activation = 'relu', weights = Weight_layers[0], name = \"L1\"),\n",
        "          Dense(5, activation = 'relu',  weights = Weight_layers[1],name = \"L2\"),\n",
        "          Dense(1,activation = 'sigmoid', weights = Weight_layers[2], name='L3')\n",
        "      ]\n",
        "  )\n",
        "  model.compile(\n",
        "      loss=tf.keras.losses.BinaryCrossentropy(),\n",
        "      optimizer=tf.keras.optimizers.Adam(0.001),\n",
        "  )\n",
        "  H= 100\n",
        "  first=True\n",
        "\n",
        "  while(H>10):\n",
        "    Weights = coresetConstr(X_train,Y_train,W,B,1,N,0.5,1,0.8,100)\n",
        "    size = 0\n",
        "    for i in range(X_train.shape[0]):\n",
        "        if(Weights[i]!=0):\n",
        "            size+=1\n",
        "    print(\"size\",size)\n",
        "    Weights = np.asarray(Weights).astype('float32')\n",
        "    train_dataset = tf.data.Dataset.from_tensor_slices((X,Y,Weights))\n",
        "    train_dataset = train_dataset.shuffle(buffer_size=1024).batch(64)\n",
        "    diff=R-1\n",
        "    while(diff<R):\n",
        "      # if(not first):\n",
        "        # print(Weights_cur[0][0],model.get_weights()[0][0])\n",
        "      history = model.fit(train_dataset,epochs=1)\n",
        "      # print(history.history)\n",
        "      Weights_cur = model.get_weights()\n",
        "      diff = difference(W,B,Weights_cur)\n",
        "      first = False\n",
        "    #   print(diff)\n",
        "    # print(Weights_cur[0][0])\n",
        "    Y_predicted = model.predict(X_train)\n",
        "    H = binary_entropy_loss(np.array(Y_predicted,dtype='float'),np.array(Y,dtype='float'))\n",
        "    Weights_cur = model.get_weights()\n",
        "    for i in range(len(W)):\n",
        "      # print(B[i].shape,np.reshape(Weights_cur[2*i+1],(-1,1)).shape)\n",
        "      W[i] = Weights_cur[2*i].T\n",
        "      B[i] = np.reshape(Weights_cur[2*i+1],(-1,1))\n",
        "    # break\n",
        "    print(\"H\",H)\n",
        "  return Weights"
      ],
      "metadata": {
        "id": "WiOYfQghSjAh"
      },
      "execution_count": null,
      "outputs": []
    },
    {
      "cell_type": "code",
      "source": [
        "Weights= seqCoreSets(X_train,Y_train,4,0.5,1,0.8,100)"
      ],
      "metadata": {
        "colab": {
          "base_uri": "https://localhost:8080/"
        },
        "id": "i6du9gG-0P0E",
        "outputId": "054779b7-6006-4832-977a-62fa9c6c59cb"
      },
      "execution_count": null,
      "outputs": [
        {
          "output_type": "stream",
          "name": "stdout",
          "text": [
            "38.738279561684784\n",
            "size 7616\n",
            "282/282 [==============================] - 1s 1ms/step - loss: 170.4264\n",
            "282/282 [==============================] - 0s 1ms/step - loss: 161.3700\n",
            "282/282 [==============================] - 0s 1ms/step - loss: 158.8456\n",
            "282/282 [==============================] - 0s 2ms/step - loss: 156.5659\n",
            "282/282 [==============================] - 1s 2ms/step - loss: 154.9880\n",
            "564/564 [==============================] - 1s 835us/step\n",
            "H 14.003033084356128\n",
            "11186.69089185582\n",
            "size 18036\n",
            "282/282 [==============================] - 0s 1ms/step - loss: 1970329.1250\n",
            "282/282 [==============================] - 0s 1ms/step - loss: 1886514.5000\n",
            "564/564 [==============================] - 0s 779us/step\n",
            "H 12.295361504919546\n",
            "15436.110597982075\n",
            "size 18036\n",
            "282/282 [==============================] - 0s 1ms/step - loss: 3481836.7500\n",
            "282/282 [==============================] - 0s 1ms/step - loss: 3375011.2500\n",
            "282/282 [==============================] - 0s 1ms/step - loss: 3300034.2500\n",
            "564/564 [==============================] - 0s 765us/step\n",
            "H 11.102372707076283\n",
            "13100.412411840496\n",
            "size 18036\n",
            "282/282 [==============================] - 0s 1ms/step - loss: 2331735.5000\n",
            "282/282 [==============================] - 0s 1ms/step - loss: 2294185.5000\n",
            "282/282 [==============================] - 0s 1ms/step - loss: 2270313.2500\n",
            "282/282 [==============================] - 0s 1ms/step - loss: 2262499.5000\n",
            "564/564 [==============================] - 0s 777us/step\n",
            "H 10.344768615468789\n",
            "4754.058171308414\n",
            "size 18036\n",
            "282/282 [==============================] - 0s 1ms/step - loss: 298164.7812\n",
            "282/282 [==============================] - 0s 1ms/step - loss: 296712.0000\n",
            "282/282 [==============================] - 0s 1ms/step - loss: 295912.4688\n",
            "282/282 [==============================] - 0s 1ms/step - loss: 295188.9375\n",
            "282/282 [==============================] - 0s 1ms/step - loss: 294426.8438\n",
            "282/282 [==============================] - 0s 1ms/step - loss: 293885.1875\n",
            "282/282 [==============================] - 0s 1ms/step - loss: 292960.0625\n",
            "282/282 [==============================] - 1s 2ms/step - loss: 292909.7188\n",
            "282/282 [==============================] - 1s 2ms/step - loss: 292757.6875\n",
            "282/282 [==============================] - 1s 2ms/step - loss: 292228.1875\n",
            "282/282 [==============================] - 0s 1ms/step - loss: 291486.4375\n",
            "282/282 [==============================] - 0s 1ms/step - loss: 290196.8438\n",
            "564/564 [==============================] - 0s 753us/step\n",
            "H 9.501508456646045\n"
          ]
        }
      ]
    },
    {
      "cell_type": "code",
      "source": [
        "Weights = coresetConstr(X_train,Y_train,W,B,1,N,0.5,1,0.8,100)"
      ],
      "metadata": {
        "id": "h9sltEgDTS8m"
      },
      "execution_count": null,
      "outputs": []
    },
    {
      "cell_type": "code",
      "source": [
        "Weights"
      ],
      "metadata": {
        "colab": {
          "base_uri": "https://localhost:8080/"
        },
        "id": "WUBFYfAI9lm6",
        "outputId": "03866aa9-d33a-4286-921d-76a37d96ff80"
      },
      "execution_count": null,
      "outputs": [
        {
          "output_type": "execute_result",
          "data": {
            "text/plain": [
              "array([615.25 ,   0.   ,   0.   , ...,   0.   , 547.375,   0.   ])"
            ]
          },
          "metadata": {},
          "execution_count": 36
        }
      ]
    },
    {
      "cell_type": "code",
      "source": [
        "size = 0\n",
        "for i in range(X_train.shape[0]):\n",
        "    if(Weights[i]!=0):\n",
        "        size+=1"
      ],
      "metadata": {
        "id": "TyxB9yQN7LqU"
      },
      "execution_count": null,
      "outputs": []
    },
    {
      "cell_type": "code",
      "source": [
        "size"
      ],
      "metadata": {
        "colab": {
          "base_uri": "https://localhost:8080/"
        },
        "id": "hBFe9oFYOZ-R",
        "outputId": "d9171d9c-664b-4b36-f351-decb3efd1d3f"
      },
      "execution_count": null,
      "outputs": [
        {
          "output_type": "execute_result",
          "data": {
            "text/plain": [
              "7070"
            ]
          },
          "metadata": {},
          "execution_count": 38
        }
      ]
    },
    {
      "cell_type": "code",
      "source": [
        "X_train.shape[0]"
      ],
      "metadata": {
        "colab": {
          "base_uri": "https://localhost:8080/"
        },
        "id": "W1S6wKeeOftH",
        "outputId": "44645292-c9fb-46e5-80c0-953838391158"
      },
      "execution_count": null,
      "outputs": [
        {
          "output_type": "execute_result",
          "data": {
            "text/plain": [
              "18036"
            ]
          },
          "metadata": {},
          "execution_count": 39
        }
      ]
    },
    {
      "cell_type": "code",
      "source": [],
      "metadata": {
        "id": "YbyZBFgnOkto"
      },
      "execution_count": null,
      "outputs": []
    }
  ],
  "metadata": {
    "kernelspec": {
      "display_name": "Python 3",
      "language": "python",
      "name": "python3"
    },
    "language_info": {
      "codemirror_mode": {
        "name": "ipython",
        "version": 3
      },
      "file_extension": ".py",
      "mimetype": "text/x-python",
      "name": "python",
      "nbconvert_exporter": "python",
      "pygments_lexer": "ipython3",
      "version": "3.10.11"
    },
    "orig_nbformat": 4,
    "colab": {
      "provenance": []
    }
  },
  "nbformat": 4,
  "nbformat_minor": 0
}